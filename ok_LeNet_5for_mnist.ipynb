{
  "nbformat": 4,
  "nbformat_minor": 0,
  "metadata": {
    "colab": {
      "name": "ok_LeNet-5for mnist.ipynb",
      "version": "0.3.2",
      "provenance": [],
      "collapsed_sections": []
    },
    "kernelspec": {
      "name": "python3",
      "display_name": "Python 3"
    },
    "accelerator": "GPU"
  },
  "cells": [
    {
      "cell_type": "markdown",
      "metadata": {
        "id": "view-in-github",
        "colab_type": "text"
      },
      "source": [
        "[View in Colaboratory](https://colab.research.google.com/github/nuass/deeplearn/blob/master/ok_LeNet_5for_mnist.ipynb)"
      ]
    },
    {
      "metadata": {
        "id": "ITpZvaLiVcmm",
        "colab_type": "code",
        "colab": {
          "base_uri": "https://localhost:8080/",
          "height": 105
        },
        "outputId": "f83faef7-d7f1-4583-81d8-272f372b0c68"
      },
      "cell_type": "code",
      "source": [
        "!apt-get install -y -qq software-properties-common python-software-properties module-init-tools\n",
        "!add-apt-repository -y ppa:alessandro-strada/ppa 2>&1 > /dev/null\n",
        "!apt-get update -qq 2>&1 > /dev/null\n",
        "!apt-get -y install -qq google-drive-ocamlfuse fuse\n",
        "from google.colab import auth\n",
        "auth.authenticate_user()\n",
        "from oauth2client.client import GoogleCredentials\n",
        "creds = GoogleCredentials.get_application_default()\n",
        "import getpass\n",
        "!google-drive-ocamlfuse -headless -id={creds.client_id} -secret={creds.client_secret} < /dev/null 2>&1 | grep URL\n",
        "vcode = getpass.getpass()\n",
        "!echo {vcode} | google-drive-ocamlfuse -headless -id={creds.client_id} -secret={creds.client_secret}"
      ],
      "execution_count": 1,
      "outputs": [
        {
          "output_type": "stream",
          "text": [
            "Please, open the following URL in a web browser: https://accounts.google.com/o/oauth2/auth?client_id=32555940559.apps.googleusercontent.com&redirect_uri=urn%3Aietf%3Awg%3Aoauth%3A2.0%3Aoob&scope=https%3A%2F%2Fwww.googleapis.com%2Fauth%2Fdrive&response_type=code&access_type=offline&approval_prompt=force\r\n",
            "··········\n",
            "Please, open the following URL in a web browser: https://accounts.google.com/o/oauth2/auth?client_id=32555940559.apps.googleusercontent.com&redirect_uri=urn%3Aietf%3Awg%3Aoauth%3A2.0%3Aoob&scope=https%3A%2F%2Fwww.googleapis.com%2Fauth%2Fdrive&response_type=code&access_type=offline&approval_prompt=force\n",
            "Please enter the verification code: Access token retrieved correctly.\n"
          ],
          "name": "stdout"
        }
      ]
    },
    {
      "metadata": {
        "id": "zXenuwr-Ju1U",
        "colab_type": "code",
        "colab": {
          "base_uri": "https://localhost:8080/",
          "height": 68
        },
        "outputId": "eff01ca2-68ba-4b5d-f634-1ff6c4b1df0a"
      },
      "cell_type": "code",
      "source": [
        "!pip install tensorflow-serving-api"
      ],
      "execution_count": 8,
      "outputs": [
        {
          "output_type": "stream",
          "text": [
            "Collecting tensorflow-serving-api\n",
            "\u001b[31m  Could not find a version that satisfies the requirement tensorflow-serving-api (from versions: )\u001b[0m\n",
            "\u001b[31mNo matching distribution found for tensorflow-serving-api\u001b[0m\n"
          ],
          "name": "stdout"
        }
      ]
    },
    {
      "metadata": {
        "id": "mrq62mx-VfT4",
        "colab_type": "code",
        "colab": {}
      },
      "cell_type": "code",
      "source": [
        "!mkdir -p drive\n",
        "!google-drive-ocamlfuse drive"
      ],
      "execution_count": 0,
      "outputs": []
    },
    {
      "metadata": {
        "id": "9KOLVQ1BzPKD",
        "colab_type": "code",
        "colab": {}
      },
      "cell_type": "code",
      "source": [
        "#!kill -9 -1 ##reset the project"
      ],
      "execution_count": 0,
      "outputs": []
    },
    {
      "metadata": {
        "id": "NDAjFSiCh_kA",
        "colab_type": "code",
        "colab": {}
      },
      "cell_type": "code",
      "source": [
        "#!cd drive/app\n",
        "#!ls drive/app/MNIST_model_LeNet"
      ],
      "execution_count": 0,
      "outputs": []
    },
    {
      "metadata": {
        "id": "1FydqqHX4gqv",
        "colab_type": "text"
      },
      "cell_type": "markdown",
      "source": [
        "问题：interface只可以执行一次会报错 Variable layer1-conv1/weight already exists, disallowed. Did you mean to set reuse=True or reuse=tf.AUTO_REUSE in VarScope? Originally defined at:\n",
        " Variable layer1-conv1/weight already exists, disallowed. Did you mean to set reuse=True or reuse=tf.AUTO_REUSE in VarScope? Originally defined at:。。\n",
        " 原因是the graph (with it's layer names) already exists\n",
        "解决办法：add`  tf.reset_default_graph()` at the beginning of the block"
      ]
    },
    {
      "metadata": {
        "id": "dh5LqfxFvI6n",
        "colab_type": "text"
      },
      "cell_type": "markdown",
      "source": [
        "参数：epoch"
      ]
    },
    {
      "metadata": {
        "id": "oubjr3eyTn3Q",
        "colab_type": "code",
        "colab": {
          "base_uri": "https://localhost:8080/",
          "height": 34
        },
        "outputId": "779799d8-c0cc-4848-9ef8-3867fdb6208f"
      },
      "cell_type": "code",
      "source": [
        "#@title 默认标题文本\n",
        "%%writefile inference.py\n",
        "import  tensorflow  as tf\n",
        "\n",
        "INPUT_NODE = 784\n",
        "OUTPUT_NODE = 10\n",
        "\n",
        "IMAGE_SIZE = 28\n",
        "NUM_CHANNELS = 1\n",
        "NUM_LABELS = 10\n",
        "\n",
        "CONV1_DEEP = 32\n",
        "CONV1_SIZE = 5\n",
        "\n",
        "CONV2_DEEP = 64\n",
        "CONV2_SIZE = 5\n",
        "\n",
        "FC_SIZE = 512\n",
        "#tf.reset_default_graph()\n",
        "def inference(input_tensor, train, regularizer):\n",
        "    with tf.variable_scope('layer1-conv1'):\n",
        "        conv1_weights = tf.get_variable(\n",
        "            \"weight\", [CONV1_SIZE, CONV1_SIZE, NUM_CHANNELS, CONV1_DEEP],\n",
        "            initializer=tf.truncated_normal_initializer(stddev=0.1))\n",
        "        conv1_biases = tf.get_variable(\"bias\", [CONV1_DEEP], initializer=tf.constant_initializer(0.0))\n",
        "        conv1 = tf.nn.conv2d(input_tensor, conv1_weights, strides=[1, 1, 1, 1], padding='SAME')\n",
        "        relu1 = tf.nn.relu(tf.nn.bias_add(conv1, conv1_biases))\n",
        "\n",
        "    with tf.name_scope(\"layer2-pool1\"):\n",
        "        pool1 = tf.nn.max_pool(relu1, ksize = [1,2,2,1],strides=[1,2,2,1],padding=\"SAME\")\n",
        "\n",
        "    with tf.variable_scope(\"layer3-conv2\"):\n",
        "        conv2_weights = tf.get_variable(\n",
        "            \"weight\", [CONV2_SIZE, CONV2_SIZE, CONV1_DEEP, CONV2_DEEP],\n",
        "            initializer=tf.truncated_normal_initializer(stddev=0.1))\n",
        "        conv2_biases = tf.get_variable(\"bias\", [CONV2_DEEP], initializer=tf.constant_initializer(0.0))\n",
        "        conv2 = tf.nn.conv2d(pool1, conv2_weights, strides=[1, 1, 1, 1], padding='SAME')\n",
        "        relu2 = tf.nn.relu(tf.nn.bias_add(conv2, conv2_biases))\n",
        "\n",
        "    with tf.name_scope(\"layer4-pool2\"):\n",
        "        pool2 = tf.nn.max_pool(relu2, ksize=[1, 2, 2, 1], strides=[1, 2, 2, 1], padding='SAME')\n",
        "        pool_shape = pool2.get_shape().as_list()\n",
        "             \n",
        "        nodes = pool_shape[1] * pool_shape[2] * pool_shape[3]\n",
        "        reshaped = tf.reshape(pool2, [pool_shape[0], nodes])\n",
        "\n",
        "    with tf.variable_scope('layer5-fc1'):\n",
        "        fc1_weights = tf.get_variable(\"weight\", [nodes, FC_SIZE],\n",
        "                                      initializer=tf.truncated_normal_initializer(stddev=0.1))\n",
        "        if regularizer != None: tf.add_to_collection('losses', regularizer(fc1_weights))\n",
        "        fc1_biases = tf.get_variable(\"bias\", [FC_SIZE], initializer=tf.constant_initializer(0.1))\n",
        "\n",
        "        fc1 = tf.nn.relu(tf.matmul(reshaped, fc1_weights) + fc1_biases)\n",
        "        if train: fc1 = tf.nn.dropout(fc1, 0.5)\n",
        "\n",
        "    with tf.variable_scope('layer6-fc2'):\n",
        "        fc2_weights = tf.get_variable(\"weight\", [FC_SIZE, NUM_LABELS],\n",
        "                                      initializer=tf.truncated_normal_initializer(stddev=0.1))\n",
        "        if regularizer != None: tf.add_to_collection('losses', regularizer(fc2_weights))\n",
        "        fc2_biases = tf.get_variable(\"bias\", [NUM_LABELS], initializer=tf.constant_initializer(0.1))\n",
        "        logit = tf.matmul(fc1, fc2_weights) + fc2_biases\n",
        "\n",
        "    return logit"
      ],
      "execution_count": 23,
      "outputs": [
        {
          "output_type": "stream",
          "text": [
            "Overwriting inference.py\n"
          ],
          "name": "stdout"
        }
      ]
    },
    {
      "metadata": {
        "id": "HH84r40IUjTX",
        "colab_type": "code",
        "colab": {}
      },
      "cell_type": "code",
      "source": [
        "exec(open('inference.py').read())##引用inference"
      ],
      "execution_count": 0,
      "outputs": []
    },
    {
      "metadata": {
        "id": "vTXfDb8RU778",
        "colab_type": "code",
        "colab": {}
      },
      "cell_type": "code",
      "source": [
        "\n",
        "import tensorflow as tf\n",
        "from tensorflow.examples.tutorials.mnist import input_data\n",
        "import inference\n",
        "import os\n",
        "import numpy as np\n",
        "import pandas as pd \n",
        "import matplotlib.pyplot as plt\n",
        "#BATCH_SIZE = 100\n",
        "#LEARNING_RATE_BASE = 0.01\n",
        "LEARNING_RATE_DECAY = 0.99\n",
        "REGULARIZATION_RATE = 0.0001\n",
        "#TRAINING_STEPS = 6000\n",
        "MOVING_AVERAGE_DECAY = 0.99\n",
        "MODEL_SAVE_PATH=\"drive/app/MNIST_model_LeNet/\"\n",
        "MODEL_NAME=\"LeNet_model\"\n",
        "ls_step=[]\n",
        "ls_loss=[]\n",
        "def train(mnist):\n",
        "    # 定义输出为4维矩阵的placeholder\n",
        "    x = tf.placeholder(tf.float32, [\n",
        "            BATCH_SIZE,\n",
        "            inference.IMAGE_SIZE,\n",
        "            inference.IMAGE_SIZE,\n",
        "            inference.NUM_CHANNELS],\n",
        "        name='x-input')\n",
        "    y_ = tf.placeholder(tf.float32, [None, inference.OUTPUT_NODE], name='y-input')\n",
        "    \n",
        "    regularizer = tf.contrib.layers.l2_regularizer(REGULARIZATION_RATE)\n",
        "    y = inference.inference(x,False,regularizer)####??\n",
        "   \n",
        "    global_step = tf.Variable(0, trainable=False)\n",
        "\n",
        "    # 定义损失函数、学习率、滑动平均操作以及训练过程。\n",
        "    variable_averages = tf.train.ExponentialMovingAverage(MOVING_AVERAGE_DECAY, global_step)\n",
        "    variables_averages_op = variable_averages.apply(tf.trainable_variables())\n",
        "    cross_entropy = tf.nn.sparse_softmax_cross_entropy_with_logits(logits=y, labels=tf.argmax(y_, 1))\n",
        "    cross_entropy_mean = tf.reduce_mean(cross_entropy)\n",
        "    loss = cross_entropy_mean + tf.add_n(tf.get_collection('losses'))\n",
        "    learning_rate = tf.train.exponential_decay(\n",
        "        LEARNING_RATE_BASE,\n",
        "        global_step,\n",
        "        mnist.train.num_examples / BATCH_SIZE, LEARNING_RATE_DECAY,\n",
        "        staircase=True)\n",
        "\n",
        "    train_step = tf.train.GradientDescentOptimizer(learning_rate).minimize(loss, global_step=global_step)\n",
        "    with tf.control_dependencies([train_step, variables_averages_op]):\n",
        "        train_op = tf.no_op(name='train')\n",
        "        \n",
        "    # 初始化TensorFlow持久化类。\n",
        "    saver = tf.train.Saver()\n",
        "\n",
        "   \n",
        "    with tf.Session() as sess:\n",
        "        tf.global_variables_initializer().run()\n",
        "        for i in range(TRAINING_STEPS):\n",
        "            xs, ys = mnist.train.next_batch(BATCH_SIZE)\n",
        "\n",
        "            reshaped_xs = np.reshape(xs, (\n",
        "                BATCH_SIZE,\n",
        "                inference.IMAGE_SIZE,\n",
        "                inference.IMAGE_SIZE,\n",
        "                inference.NUM_CHANNELS))\n",
        "            _, loss_value, step = sess.run([train_op, loss, global_step], feed_dict={x: reshaped_xs, y_: ys})\n",
        "\n",
        "            if ((i+1) % 1000 == 0):\n",
        "                print(\"After %d training step(s), loss on training batch is %g.\" % (step, loss_value))\n",
        "                saver.save(sess, os.path.join(MODEL_SAVE_PATH, MODEL_NAME), global_step=global_step)\n",
        "                ls_step.append(step)\n",
        "                ls_loss.append(loss_value)\n",
        "     \n",
        "        plt.xlabel(\"step\")\n",
        "        plt.ylabel(\"loss\")\n",
        "        plt.title(\"train\")\n",
        "\n",
        "        plt.plot(ls_step,ls_loss,label = 'training step %s'%TRAINING_STEPS)\n",
        "        plt.legend()\n",
        "        plt.show()\n",
        "                \n",
        "                \n",
        "                \n"
      ],
      "execution_count": 0,
      "outputs": []
    },
    {
      "metadata": {
        "id": "qVLoAIp6TgmR",
        "colab_type": "text"
      },
      "cell_type": "markdown",
      "source": [
        "##根据参数类型不同，可以定义字符串DEFINE_string，可以定义整数DEFINE_integer\n",
        "\n",
        "\n",
        "\n",
        "```\n",
        "# 此内容为代码格式\n",
        "tf.app.flags.DEFINE_integer('batch_size', 100, 'batch size')\n",
        "tf.app.flags.DEFINE_float('learning_rate', 0.1, 'l;earning rate')\n",
        "tf.app.flags.DEFINE_integer('epoch', 1000, 'how many epoch tf will run')\n",
        "tf.app.flags.DEFINE_string('ckp_dir', 'C:\\\\tmp\\\\d44', 'where to save tensorboard')\n",
        "```\n",
        "\n",
        "\n",
        "\n"
      ]
    },
    {
      "metadata": {
        "id": "3LomLKwbVIrf",
        "colab_type": "code",
        "colab": {
          "base_uri": "https://localhost:8080/",
          "height": 153
        },
        "outputId": "8f47a2b3-4414-42a1-f8f3-fc71fd15b3c5"
      },
      "cell_type": "code",
      "source": [
        "#@title 参数 { form-width: \"40%\", display-mode: \"form\" }\n",
        "BATCH_SIZE = 100 #@param {type:\"integer\"}\n",
        "TRAINING_STEPS = 10000 #@param {type:\"integer\"}\n",
        "LEARNING_RATE_BASE = 0.1 #@param {type:\"number\"}\n",
        "\n",
        "def main(argv=None):\n",
        "    mnist = input_data.read_data_sets(\"drive/data/mnist_data\", one_hot=True)\n",
        "    tf.reset_default_graph()\n",
        "    train(mnist)\n",
        "    \n",
        "\n",
        "if __name__ == '__main__':\n",
        "    main()"
      ],
      "execution_count": 0,
      "outputs": [
        {
          "output_type": "stream",
          "text": [
            "Extracting drive/data/mnist_data/train-images-idx3-ubyte.gz\n",
            "Extracting drive/data/mnist_data/train-labels-idx1-ubyte.gz\n",
            "Extracting drive/data/mnist_data/t10k-images-idx3-ubyte.gz\n",
            "Extracting drive/data/mnist_data/t10k-labels-idx1-ubyte.gz\n",
            "After 1000 training step(s), loss on training batch is 0.760762.\n",
            "After 2000 training step(s), loss on training batch is 0.643814.\n",
            "After 3000 training step(s), loss on training batch is 0.591714.\n",
            "After 4000 training step(s), loss on training batch is 0.583592.\n"
          ],
          "name": "stdout"
        }
      ]
    },
    {
      "metadata": {
        "id": "0CfklTyggfc0",
        "colab_type": "text"
      },
      "cell_type": "markdown",
      "source": [
        "##验证集-Validation\n",
        "准确率达到98.9\n"
      ]
    },
    {
      "metadata": {
        "id": "BJoenRAdzx27",
        "colab_type": "code",
        "colab": {
          "base_uri": "https://localhost:8080/",
          "height": 614
        },
        "outputId": "33762012-e0d4-402b-c8d4-2bb9846d2ce5"
      },
      "cell_type": "code",
      "source": [
        "import time\n",
        "import tensorflow as tf\n",
        "from tensorflow.examples.tutorials.mnist import input_data\n",
        "import inference\n",
        "\n",
        "# 加载的时间间隔。\n",
        "EVAL_INTERVAL_SECS = 10\n",
        "ls_accuracy=[]\n",
        "def evaluate(mnist):\n",
        "    with tf.Graph().as_default() as g:\n",
        "        x = tf.placeholder(tf.float32, [\n",
        "            mnist.validation.num_examples,\n",
        "            inference.IMAGE_SIZE,\n",
        "            inference.IMAGE_SIZE,\n",
        "            inference.NUM_CHANNELS],\n",
        "        name='x-input')\n",
        "        y_ = tf.placeholder(tf.float32, [None, inference.OUTPUT_NODE], name='y-input')\n",
        "        reshaped_xs = np.reshape(mnist.validation.images,[\n",
        "                -1,\n",
        "                inference.IMAGE_SIZE,\n",
        "                inference.IMAGE_SIZE,\n",
        "                inference.NUM_CHANNELS])\n",
        "        validate_feed = {x: reshaped_xs, y_: mnist.validation.labels}\n",
        "        y = inference.inference(x, False,None)\n",
        "        correct_prediction = tf.equal(tf.argmax(y, 1), tf.argmax(y_, 1))\n",
        "        accuracy = tf.reduce_mean(tf.cast(correct_prediction, tf.float32))\n",
        "\n",
        "        variable_averages = tf.train.ExponentialMovingAverage(MOVING_AVERAGE_DECAY)\n",
        "        variables_to_restore = variable_averages.variables_to_restore()\n",
        "        saver = tf.train.Saver(variables_to_restore)\n",
        "\n",
        "        #while True:\n",
        "        with tf.Session() as sess:\n",
        "            ckpt = tf.train.get_checkpoint_state(MODEL_SAVE_PATH)\n",
        "           \n",
        "            if ckpt and ckpt.all_model_checkpoint_paths:\n",
        "              for model_step in ckpt.all_model_checkpoint_paths:\n",
        "                saver.restore(sess, model_step)\n",
        "                accuracy_score = sess.run(accuracy, feed_dict=validate_feed)\n",
        "                ls_accuracy.append(accuracy_score)\n",
        "               \n",
        "                print(\"After %s training step(s), validation accuracy = %g\" % (model_step, accuracy_score))\n",
        "            else:\n",
        "                print('No checkpoint file found')\n",
        "                return\n",
        "         #   time.sleep(EVAL_INTERVAL_SECS)\n",
        "        plt.xlabel(\"step\")\n",
        "        plt.ylabel(\"accuracy\")\n",
        "        plt.title(\"train\")\n",
        "\n",
        "        plt.plot(ls_step,ls_accuracy,label = 'validation_accuracy vs step %s'%TRAINING_STEPS)\n",
        "    \n",
        "        plt.legend()\n",
        "        plt.show()\n",
        "                \n",
        "def main(argv=None):\n",
        "    mnist = input_data.read_data_sets(\"drive/data/mnist_data\", one_hot=True)\n",
        "    evaluate(mnist)\n",
        "\n",
        "if __name__ == '__main__':\n",
        "    main()"
      ],
      "execution_count": 20,
      "outputs": [
        {
          "output_type": "stream",
          "text": [
            "Extracting drive/data/mnist_data/train-images-idx3-ubyte.gz\n",
            "Extracting drive/data/mnist_data/train-labels-idx1-ubyte.gz\n",
            "Extracting drive/data/mnist_data/t10k-images-idx3-ubyte.gz\n",
            "Extracting drive/data/mnist_data/t10k-labels-idx1-ubyte.gz\n",
            "INFO:tensorflow:Restoring parameters from drive/app/MNIST_model_LeNet/LeNet_model-1000\n",
            "After drive/app/MNIST_model_LeNet/LeNet_model-1000 training step(s), validation accuracy = 0.9862\n",
            "INFO:tensorflow:Restoring parameters from drive/app/MNIST_model_LeNet/LeNet_model-2000\n",
            "After drive/app/MNIST_model_LeNet/LeNet_model-2000 training step(s), validation accuracy = 0.9906\n",
            "INFO:tensorflow:Restoring parameters from drive/app/MNIST_model_LeNet/LeNet_model-3000\n",
            "After drive/app/MNIST_model_LeNet/LeNet_model-3000 training step(s), validation accuracy = 0.9906\n",
            "INFO:tensorflow:Restoring parameters from drive/app/MNIST_model_LeNet/LeNet_model-4000\n",
            "After drive/app/MNIST_model_LeNet/LeNet_model-4000 training step(s), validation accuracy = 0.9906\n",
            "INFO:tensorflow:Restoring parameters from drive/app/MNIST_model_LeNet/LeNet_model-5000\n",
            "After drive/app/MNIST_model_LeNet/LeNet_model-5000 training step(s), validation accuracy = 0.9908\n"
          ],
          "name": "stdout"
        },
        {
          "output_type": "display_data",
          "data": {
            "image/png": "[encoded data removed]",
            "text/plain": [
              "<matplotlib.figure.Figure at 0x7f99531bb4a8>"
            ]
          },
          "metadata": {
            "tags": []
          }
        }
      ]
    },
    {
      "metadata": {
        "id": "fqzbiMkEwq2e",
        "colab_type": "code",
        "colab": {
          "base_uri": "https://localhost:8080/",
          "height": 614
        },
        "outputId": "9084589e-939c-43f3-ce75-61eebd6b7ec7"
      },
      "cell_type": "code",
      "source": [
        "import time\n",
        "import tensorflow as tf\n",
        "from tensorflow.examples.tutorials.mnist import input_data\n",
        "import inference\n",
        "\n",
        "# 加载的时间间隔。\n",
        "EVAL_INTERVAL_SECS = 10\n",
        "ls_accuracy_test=[]\n",
        "def evaluate(mnist):\n",
        "    with tf.Graph().as_default() as g:\n",
        "        x = tf.placeholder(tf.float32, [\n",
        "            mnist.test.num_examples,\n",
        "            inference.IMAGE_SIZE,\n",
        "            inference.IMAGE_SIZE,\n",
        "            inference.NUM_CHANNELS],\n",
        "        name='x-input')\n",
        "        y_ = tf.placeholder(tf.float32, [None, inference.OUTPUT_NODE], name='y-input')\n",
        "        reshaped_xs = np.reshape(mnist.test.images,[\n",
        "                -1,\n",
        "                inference.IMAGE_SIZE,\n",
        "                inference.IMAGE_SIZE,\n",
        "                inference.NUM_CHANNELS])\n",
        "        test_feed = {x: reshaped_xs, y_: mnist.test.labels}\n",
        "        y = inference.inference(x, False,None)\n",
        "        correct_prediction = tf.equal(tf.argmax(y, 1), tf.argmax(y_, 1))\n",
        "        accuracy = tf.reduce_mean(tf.cast(correct_prediction, tf.float32))\n",
        "\n",
        "        variable_averages = tf.train.ExponentialMovingAverage(MOVING_AVERAGE_DECAY)\n",
        "        variables_to_restore = variable_averages.variables_to_restore()\n",
        "        saver = tf.train.Saver(variables_to_restore)\n",
        "\n",
        "        #while True:\n",
        "        with tf.Session() as sess:\n",
        "            ckpt = tf.train.get_checkpoint_state(MODEL_SAVE_PATH)\n",
        "            if ckpt and ckpt.all_model_checkpoint_paths:\n",
        "              for model_step in ckpt.all_model_checkpoint_paths:\n",
        "                saver.restore(sess, model_step)\n",
        "                accuracy_score = sess.run(accuracy, feed_dict=test_feed)\n",
        "                ls_accuracy_test.append(accuracy_score)\n",
        "               \n",
        "                print(\"After %s training step(s), validation accuracy = %g\" % (model_step, accuracy_score))\n",
        "            else:\n",
        "                print('No checkpoint file found')\n",
        "                return\n",
        "         #   time.sleep(EVAL_INTERVAL_SECS)\n",
        "        plt.xlabel(\"step\")\n",
        "        plt.ylabel(\"accuracy\")\n",
        "        plt.title(\"train\")\n",
        "\n",
        "        plt.plot(ls_step,ls_accuracy_test,label = 'test_accuracy vs step %s'%TRAINING_STEPS)\n",
        "    \n",
        "        plt.legend()\n",
        "        plt.show()\n",
        "                \n",
        "def main(argv=None):\n",
        "    mnist = input_data.read_data_sets(\"drive/data/mnist_data\", one_hot=True)\n",
        "    evaluate(mnist)\n",
        "\n",
        "if __name__ == '__main__':\n",
        "    main()"
      ],
      "execution_count": 21,
      "outputs": [
        {
          "output_type": "stream",
          "text": [
            "Extracting drive/data/mnist_data/train-images-idx3-ubyte.gz\n",
            "Extracting drive/data/mnist_data/train-labels-idx1-ubyte.gz\n",
            "Extracting drive/data/mnist_data/t10k-images-idx3-ubyte.gz\n",
            "Extracting drive/data/mnist_data/t10k-labels-idx1-ubyte.gz\n",
            "INFO:tensorflow:Restoring parameters from drive/app/MNIST_model_LeNet/LeNet_model-1000\n",
            "After drive/app/MNIST_model_LeNet/LeNet_model-1000 training step(s), validation accuracy = 0.9839\n",
            "INFO:tensorflow:Restoring parameters from drive/app/MNIST_model_LeNet/LeNet_model-2000\n",
            "After drive/app/MNIST_model_LeNet/LeNet_model-2000 training step(s), validation accuracy = 0.9877\n",
            "INFO:tensorflow:Restoring parameters from drive/app/MNIST_model_LeNet/LeNet_model-3000\n",
            "After drive/app/MNIST_model_LeNet/LeNet_model-3000 training step(s), validation accuracy = 0.9893\n",
            "INFO:tensorflow:Restoring parameters from drive/app/MNIST_model_LeNet/LeNet_model-4000\n",
            "After drive/app/MNIST_model_LeNet/LeNet_model-4000 training step(s), validation accuracy = 0.9906\n",
            "INFO:tensorflow:Restoring parameters from drive/app/MNIST_model_LeNet/LeNet_model-5000\n",
            "After drive/app/MNIST_model_LeNet/LeNet_model-5000 training step(s), validation accuracy = 0.9903\n"
          ],
          "name": "stdout"
        },
        {
          "output_type": "display_data",
          "data": {
            "image/png": "[encoded data removed]",
            "text/plain": [
              "<matplotlib.figure.Figure at 0x7f996d2ae2e8>"
            ]
          },
          "metadata": {
            "tags": []
          }
        }
      ]
    }
  ]
}